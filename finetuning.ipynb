{
 "cells": [
  {
   "cell_type": "code",
   "execution_count": 2,
   "metadata": {},
   "outputs": [],
   "source": [
    "from typing import Mapping\n",
    "\n",
    "import torch as t\n",
    "from beartype import beartype as typed\n",
    "from datasets import load_dataset\n",
    "from language_modeling import explore_batch\n",
    "from tokenization import dependencies_tokenizer\n",
    "from transformers import AutoModelForCausalLM, AutoTokenizer, Trainer, TrainingArguments\n"
   ]
  },
  {
   "cell_type": "code",
   "execution_count": null,
   "metadata": {},
   "outputs": [],
   "source": [
    "model_name = \"roneneldan/TinyStories-8M\"\n",
    "repo_name = open(\"SECRET.txt\").read().strip()\n",
    "dataset_name = f\"{repo_name}/flat\"\n",
    "dataset = load_dataset(dataset_name, streaming=True)\n",
    "tokenizer = (\n",
    "    AutoTokenizer.from_pretrained(\"roneneldan/TinyStories-8M\")\n",
    "    if dataset_name == \"TinyStories\"\n",
    "    else dependencies_tokenizer(vocab_size=500)\n",
    ")\n",
    "tokenizer.pad_token = tokenizer.pad_token or tokenizer.eos_token\n",
    "model = AutoModelForCausalLM.from_pretrained(model_name)\n"
   ]
  },
  {
   "cell_type": "code",
   "execution_count": null,
   "metadata": {},
   "outputs": [],
   "source": [
    "model.resize_token_embeddings(len(tokenizer))\n",
    "for name, param in model.named_parameters():\n",
    "    param.requires_grad = \"wte\" in name or \"wpe\" in name\n"
   ]
  },
  {
   "cell_type": "code",
   "execution_count": null,
   "metadata": {},
   "outputs": [],
   "source": [
    "tokens_sample = tokenizer(next(iter(dataset[\"train\"]))[\"text\"])[\"input_ids\"]\n",
    "print(len(tokens_sample))\n",
    "print(tokens_sample[:10])\n"
   ]
  },
  {
   "cell_type": "code",
   "execution_count": null,
   "metadata": {},
   "outputs": [],
   "source": [
    "if dataset_name == \"TinyStories\":\n",
    "\n",
    "    @typed\n",
    "    def tokenize_function(example: Mapping[str, str | int]) -> Mapping[str, list[int]]:\n",
    "        result = tokenizer(\n",
    "            example[\"text\"], max_length=128, padding=\"max_length\", truncation=True\n",
    "        )\n",
    "        result[\"labels\"] = result[\"input_ids\"]\n",
    "        return result\n",
    "\n",
    "else:\n",
    "\n",
    "    @typed\n",
    "    def tokenize_function(example: Mapping[str, str | int]) -> Mapping[str, list[int]]:\n",
    "        result = tokenizer(example[\"text\"])\n",
    "        result[\"labels\"] = result[\"input_ids\"]\n",
    "        return result\n",
    "\n",
    "\n",
    "train_size = 100000\n",
    "test_size = 1000\n",
    "tokenized_train = (\n",
    "    dataset[\"train\"]\n",
    "    .map(tokenize_function, batched=True)\n",
    "    .remove_columns([\"text\"])\n",
    "    .take(train_size)\n",
    ")\n",
    "tokenized_test = (\n",
    "    dataset[\"validation\" if dataset_name == \"TinyStories\" else \"test\"]\n",
    "    .map(tokenize_function, batched=True)\n",
    "    .remove_columns([\"text\"])\n",
    "    .take(test_size)\n",
    ")\n"
   ]
  },
  {
   "cell_type": "code",
   "execution_count": null,
   "metadata": {},
   "outputs": [],
   "source": [
    "@typed\n",
    "def train(batch_size: int, lr: float) -> None:\n",
    "    training_args = TrainingArguments(\n",
    "        output_dir=\"trainer\",\n",
    "        fp16=False,\n",
    "        per_device_train_batch_size=batch_size,\n",
    "        torch_compile=False,\n",
    "        learning_rate=lr,\n",
    "        logging_steps=10,\n",
    "        num_train_epochs=1,\n",
    "        max_steps=train_size // batch_size,\n",
    "        save_total_limit=1,\n",
    "        report_to=\"none\",\n",
    "    )\n",
    "    trainer = Trainer(\n",
    "        model=model,\n",
    "        args=training_args,\n",
    "        train_dataset=tokenized_train,\n",
    "    )\n",
    "    trainer.train()\n"
   ]
  },
  {
   "cell_type": "code",
   "execution_count": null,
   "metadata": {},
   "outputs": [],
   "source": [
    "explore_batch(model, tokenizer, tokenized_test)\n"
   ]
  },
  {
   "cell_type": "code",
   "execution_count": null,
   "metadata": {},
   "outputs": [],
   "source": [
    "# Fine-tuning only embeddings:\n",
    "train(batch_size=8, lr=1e-2)\n"
   ]
  },
  {
   "cell_type": "code",
   "execution_count": null,
   "metadata": {},
   "outputs": [],
   "source": [
    "explore_batch(model, tokenizer, tokenized_test)\n"
   ]
  },
  {
   "cell_type": "code",
   "execution_count": null,
   "metadata": {},
   "outputs": [],
   "source": [
    "# Fine-tuning only embeddings and layernorms:\n",
    "for name, param in model.named_parameters():\n",
    "    if \"ln\" in name:\n",
    "        print(f\"{name} unfrozen\")\n",
    "        param.requires_grad = True\n",
    "train(batch_size=8, lr=2e-3)\n"
   ]
  },
  {
   "cell_type": "code",
   "execution_count": null,
   "metadata": {},
   "outputs": [],
   "source": [
    "explore_batch(model, tokenizer, tokenized_test)\n"
   ]
  },
  {
   "cell_type": "code",
   "execution_count": null,
   "metadata": {},
   "outputs": [],
   "source": [
    "# Fine-tuning only embeddings, layernorms and the last block:\n",
    "for name, param in model.named_parameters():\n",
    "    if \"h.7\" in name:\n",
    "        param.requires_grad = True\n",
    "train(batch_size=8, lr=1e-3)\n"
   ]
  },
  {
   "cell_type": "code",
   "execution_count": null,
   "metadata": {},
   "outputs": [],
   "source": [
    "explore_batch(model, tokenizer, tokenized_test)\n"
   ]
  },
  {
   "cell_type": "code",
   "execution_count": null,
   "metadata": {},
   "outputs": [],
   "source": [
    "from huggingface_hub import notebook_login\n",
    "\n",
    "notebook_login()\n"
   ]
  },
  {
   "cell_type": "code",
   "execution_count": null,
   "metadata": {},
   "outputs": [],
   "source": [
    "name = input(\"Model name: \")\n",
    "model.push_to_hub(name)\n",
    "tokenizer.push_to_hub(name)\n"
   ]
  }
 ],
 "metadata": {
  "kernelspec": {
   "display_name": "language-transfer-iDwJILbe-py3.12",
   "language": "python",
   "name": "python3"
  },
  "language_info": {
   "codemirror_mode": {
    "name": "ipython",
    "version": 3
   },
   "file_extension": ".py",
   "mimetype": "text/x-python",
   "name": "python",
   "nbconvert_exporter": "python",
   "pygments_lexer": "ipython3",
   "version": "3.12.2"
  }
 },
 "nbformat": 4,
 "nbformat_minor": 2
}
