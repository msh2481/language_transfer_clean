{
 "cells": [
  {
   "cell_type": "code",
   "execution_count": 4,
   "metadata": {},
   "outputs": [],
   "source": [
    "import os\n",
    "from typing import Mapping\n",
    "\n",
    "import torch as t\n",
    "from beartype import beartype as typed\n",
    "from datasets import load_dataset\n",
    "from language_modeling import explore_batch\n",
    "from tokenization import dependencies_tokenizer\n",
    "from transformers import AutoModelForCausalLM, Trainer, TrainingArguments\n"
   ]
  },
  {
   "cell_type": "code",
   "execution_count": null,
   "metadata": {},
   "outputs": [],
   "source": [
    "repo_name = open(\"SECRET.txt\").read().strip()\n",
    "dataset = load_dataset(f\"{repo_name}/flat_shuffle\")\n",
    "model_name = \"roneneldan/TinyStories-8M\"\n",
    "tokenizer = dependencies_tokenizer(vocab_size=500)\n",
    "model = AutoModelForCausalLM.from_pretrained(model_name)\n"
   ]
  },
  {
   "cell_type": "code",
   "execution_count": null,
   "metadata": {},
   "outputs": [],
   "source": [
    "model.resize_token_embeddings(len(tokenizer))\n",
    "for layer in model.parameters():\n",
    "    layer.data = t.randn_like(layer.data) * 0.01\n"
   ]
  },
  {
   "cell_type": "code",
   "execution_count": null,
   "metadata": {},
   "outputs": [],
   "source": [
    "tokens_sample = tokenizer(dataset[\"train\"][0][\"text\"])[\"input_ids\"]\n",
    "print(len(tokens_sample))\n",
    "print(tokens_sample[:10])\n"
   ]
  },
  {
   "cell_type": "code",
   "execution_count": null,
   "metadata": {},
   "outputs": [],
   "source": [
    "@typed\n",
    "def tokenize_function(example: Mapping[str, str | int]) -> Mapping[str, list[int]]:\n",
    "    result = tokenizer(example[\"text\"])\n",
    "    result[\"labels\"] = result[\"input_ids\"]\n",
    "    return result\n",
    "\n",
    "\n",
    "subset_size = 60000\n",
    "subset = dataset[\"train\"].select(range(subset_size)).to_iterable_dataset()\n",
    "tokenized = subset.map(tokenize_function, batched=True).remove_columns([\"text\"])\n"
   ]
  },
  {
   "cell_type": "code",
   "execution_count": null,
   "metadata": {},
   "outputs": [],
   "source": [
    "explore_batch(model, tokenizer, tokenized)\n"
   ]
  },
  {
   "cell_type": "code",
   "execution_count": null,
   "metadata": {},
   "outputs": [],
   "source": [
    "batch_size = 8\n",
    "\n",
    "training_args = TrainingArguments(\n",
    "    output_dir=\"trainer\",\n",
    "    per_device_train_batch_size=batch_size,\n",
    "    learning_rate=1e-3,\n",
    "    logging_steps=50,\n",
    "    num_train_epochs=1,\n",
    "    max_steps=subset_size // batch_size,\n",
    "    save_total_limit=1,\n",
    ")\n",
    "trainer = Trainer(\n",
    "    model=model,\n",
    "    args=training_args,\n",
    "    train_dataset=tokenized,\n",
    ")\n",
    "trainer.train()\n"
   ]
  },
  {
   "cell_type": "code",
   "execution_count": null,
   "metadata": {},
   "outputs": [],
   "source": [
    "explore_batch(model, tokenizer, tokenized)\n"
   ]
  },
  {
   "cell_type": "code",
   "execution_count": null,
   "metadata": {},
   "outputs": [],
   "source": [
    "from huggingface_hub import notebook_login\n",
    "\n",
    "notebook_login()\n",
    "\n",
    "name = input(\"Model name:\")\n",
    "model.push_to_hub(name)\n",
    "tokenizer.push_to_hub(name)\n"
   ]
  }
 ],
 "metadata": {
  "kernelspec": {
   "display_name": "language-transfer-iDwJILbe-py3.12",
   "language": "python",
   "name": "python3"
  },
  "language_info": {
   "codemirror_mode": {
    "name": "ipython",
    "version": 3
   },
   "file_extension": ".py",
   "mimetype": "text/x-python",
   "name": "python",
   "nbconvert_exporter": "python",
   "pygments_lexer": "ipython3",
   "version": "3.12.2"
  }
 },
 "nbformat": 4,
 "nbformat_minor": 2
}
